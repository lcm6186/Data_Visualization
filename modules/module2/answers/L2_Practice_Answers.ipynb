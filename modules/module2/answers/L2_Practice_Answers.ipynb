{
 "cells": [
  {
   "cell_type": "markdown",
   "metadata": {},
   "source": [
    "# Module 2 Practice\n",
    "\n",
    "In this notebook, we will look at different ways of choosing color schemes for our visualizations. We will use ggplot2 and RColorBrewer libraries.\n",
    "\n",
    "[This cheat sheet can also be handy.](http://www.guianaplants.stir.ac.uk/seminar/materials/colorPaletteCheatsheet.pdf)\n",
    "\n",
    "**Some of the following code cells require you fill in your code in < YOUR CODE > lines or question marks (???); for others,  run the code cell and study the outputs to understand what it does.**"
   ]
  },
  {
   "cell_type": "code",
   "execution_count": null,
   "metadata": {},
   "outputs": [],
   "source": [
    "library(ggplot2)\n",
    "# Color palettes from Color Brewer\n",
    "library(RColorBrewer)"
   ]
  },
  {
   "cell_type": "code",
   "execution_count": null,
   "metadata": {},
   "outputs": [],
   "source": [
    "# First, show all palettes with their names: sequential, qualitative, diverging (remember how to do that from lab?)\n",
    "display.brewer.all()"
   ]
  },
  {
   "cell_type": "code",
   "execution_count": null,
   "metadata": {
    "scrolled": true
   },
   "outputs": [],
   "source": [
    "# display five colors for a qualitative data type, use 'Dark2' palette \n",
    "display.brewer.pal(n=5, name='Dark2')"
   ]
  },
  {
   "cell_type": "code",
   "execution_count": null,
   "metadata": {},
   "outputs": [],
   "source": [
    "# display color maps with seven colors for a diverging data type, colorblind safe \n",
    "# (look up the parameters of the function and color scheme names)\n",
    "\n",
    "\n",
    "display.brewer.all(n=7, type ='div', colorblindFriendly=TRUE)\n"
   ]
  },
  {
   "cell_type": "code",
   "execution_count": null,
   "metadata": {},
   "outputs": [],
   "source": [
    "brewer.pal.info"
   ]
  },
  {
   "cell_type": "code",
   "execution_count": null,
   "metadata": {
    "scrolled": true
   },
   "outputs": [],
   "source": [
    "# The following library also contains colorblind safe color maps \n",
    "library(dichromat)\n",
    "colorschemes"
   ]
  },
  {
   "cell_type": "code",
   "execution_count": null,
   "metadata": {},
   "outputs": [],
   "source": [
    "# If we want to get MORE colors than available in the library, we can interpolate colors like this: \n",
    "p <- colorRampPalette(brewer.pal(9,'Blues'))(100)\n",
    "p"
   ]
  },
  {
   "cell_type": "code",
   "execution_count": null,
   "metadata": {},
   "outputs": [],
   "source": [
    "# Let's use the cars data to visualize some aspects of the data set.\n",
    "head(mtcars)\n",
    "# Pick some variables\n",
    "data=mtcars[ , c(1,3:6)]\n",
    " \n",
    "#Make a plot to show if there's any visible correlation, use rgb() to choose a color and alpha transparency\n",
    "plot(data , pch=20 , cex=1.5 , col=rgb(0.5, 0.8, 0.9, 0.7))\n"
   ]
  },
  {
   "cell_type": "code",
   "execution_count": null,
   "metadata": {},
   "outputs": [],
   "source": [
    "#Let's compute all the correlations and look at them \n",
    "data=cor(mtcars)\n",
    "data"
   ]
  },
  {
   "cell_type": "markdown",
   "metadata": {},
   "source": [
    "### Not very useful to look at numbers, let's use a visualization with the ellipse library."
   ]
  },
  {
   "cell_type": "code",
   "execution_count": null,
   "metadata": {},
   "outputs": [],
   "source": [
    "library(ellipse)\n",
    "\n",
    "# This represents correlations as ellipses; slope represents sign,\n",
    "# thickness represents strength of correlation: thinner is better\n",
    "plotcorr(data)"
   ]
  },
  {
   "cell_type": "markdown",
   "metadata": {
    "scrolled": true
   },
   "source": [
    "### Again not very clear; let's use an adequate color scheme to distinguish between good and weak correlations as well as negative and positive.\n",
    "\n",
    "**So we are talking about a diverging color scheme, right?**  "
   ]
  },
  {
   "cell_type": "code",
   "execution_count": null,
   "metadata": {
    "scrolled": true
   },
   "outputs": [],
   "source": [
    "# Build a panel of 100 colors with Rcolor Brewer\n",
    "my_colors <- brewer.pal(5, \"Spectral\")\n",
    "my_colors=colorRampPalette(my_colors)(100)\n",
    " \n",
    "# Order the correlation matrix\n",
    "ord <- order(data[1, ])\n",
    "data_ord = data[ord, ord]\n",
    "\n",
    "# plot and pick a color from the palette based on the value of correlation [-1,1] --> [0,100]\n",
    "\n",
    "#  ( STUDY  the following code to figure out what it's doing with the palette!! )\n",
    "plotcorr(data_ord , col=my_colors[data_ord*50+50] , mar=c(1,1,1,1)  )"
   ]
  },
  {
   "cell_type": "markdown",
   "metadata": {},
   "source": [
    "### This is better. It's a **diverging** color scheme for both positive and negative correlations, and we can easily distinguish the strongest correlations by darker colors thanks to preattentive processing of color by human visual system. Ordering also helps for easy grouping."
   ]
  },
  {
   "cell_type": "code",
   "execution_count": null,
   "metadata": {},
   "outputs": [],
   "source": [
    "# Let's look at different ways of manipulating color in ggplot2\n",
    "# get a small sample from diamonds data set \n",
    "dsamp <- diamonds[sample(nrow(diamonds), 1000), ]\n",
    "\n",
    "# plot carat vs price and encode 'cut' variable with color\n",
    "\n",
    "# default color palette: not a good choice \n",
    "(gp <- ggplot(dsamp, aes(x=carat, y=price, color=cut)) + geom_point())\n",
    "\n",
    "# 'cut' is categorical but it does have an inherent ordering. Let's use a sequential color scheme\n"
   ]
  },
  {
   "cell_type": "code",
   "execution_count": null,
   "metadata": {},
   "outputs": [],
   "source": [
    "gp + scale_colour_brewer()\n"
   ]
  },
  {
   "cell_type": "code",
   "execution_count": null,
   "metadata": {},
   "outputs": [],
   "source": [
    "# This might be better if we want to emphasize the ideal cut \n",
    "gp + scale_colour_brewer(type=\"seq\", palette=3)"
   ]
  },
  {
   "cell_type": "code",
   "execution_count": null,
   "metadata": {},
   "outputs": [],
   "source": [
    "#Again bad choice \n",
    "gp + scale_colour_brewer(palette=\"Set1\")\n"
   ]
  },
  {
   "cell_type": "code",
   "execution_count": null,
   "metadata": {},
   "outputs": [],
   "source": [
    "# We can also assign colors manually using their hexadecimal codes \n",
    "gp + scale_color_manual(values=c(\"#0000FF\", \"#009F00\", \"#56B4E9\", \"#009E73\", \"#FFFFFF\"))\n",
    "\n",
    "\n",
    "# not a very good color scheme"
   ]
  },
  {
   "cell_type": "code",
   "execution_count": null,
   "metadata": {},
   "outputs": [],
   "source": [
    "# Let's create a histogram of carat variable \n",
    "\n",
    "(gp2 <- ggplot(data=dsamp, aes(x=carat))+ geom_histogram(binwidth=0.5,aes(fill = ..count..)))"
   ]
  },
  {
   "cell_type": "code",
   "execution_count": null,
   "metadata": {},
   "outputs": [],
   "source": [
    "gp2 + scale_fill_gradient(\"Count\", low=\"blue\", high=\"red\")"
   ]
  },
  {
   "cell_type": "code",
   "execution_count": null,
   "metadata": {},
   "outputs": [],
   "source": [
    "(gp3 <-ggplot(mtcars, aes(x=wt, y=mpg, color=factor(cyl))) + geom_point())"
   ]
  },
  {
   "cell_type": "code",
   "execution_count": null,
   "metadata": {},
   "outputs": [],
   "source": [
    "gp3 +  scale_color_brewer(palette=\"Reds\")"
   ]
  }
 ],
 "metadata": {
  "kernelspec": {
   "display_name": "R",
   "language": "R",
   "name": "ir"
  },
  "language_info": {
   "codemirror_mode": "r",
   "file_extension": ".r",
   "mimetype": "text/x-r-source",
   "name": "R",
   "pygments_lexer": "r",
   "version": "3.5.1"
  }
 },
 "nbformat": 4,
 "nbformat_minor": 2
}
