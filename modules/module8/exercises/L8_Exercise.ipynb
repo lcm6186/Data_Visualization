{
 "cells": [
  {
   "cell_type": "markdown",
   "metadata": {},
   "source": [
    "# Module 8 Exercise - Data Storytelling\n",
    "\n",
    "In this exercise, you will **create a narrative visualization with a data set of your choosing**. You can choose any data set you can find on the Internet, or a data set related to your current line of work. \n",
    "\n",
    "**You will create visualizations to give a message, make a point, or convince your audience by using all the techniques we have seen throughout the course.**\n",
    "\n",
    "Here is a list of your tasks:\n",
    "\n",
    "1. Find a data set and upload it to your exercises folder in module 8. \n",
    "\n",
    "2. Write your R code **in this exercise notebook** to create your visualizations, and save them under `exercises` folder.\n",
    "\n",
    "3. Create a **narrative visualization document** using **any** software you want (Word, PowerPoint, Photoshop, etc.) by pasting your visualizations and creating all necessary elements (captions, text annotations, layout, etc.) \n",
    "\n",
    "4. Save your end product as a **pdf file** and upload it to your exercises folder (**name it L8_Exercise.pdf**)\n",
    "\n",
    "Make sure that you start with a clear message in mind, and filter and format your data accordingly, and create the visualizations that will **support that message**. \n",
    "\n",
    "You need to have **at least one major visualization, and a number of supporting smaller graphs (2, 3, or more)**. Make sure to have a **clean layout**, and **enough text annotations and captions** to make your message clear. \n",
    "\n",
    "You can choose any type of visualization that you believe will be most **effective** for the type of data and the message you have chosen. \n",
    "\n",
    "You will be graded by the quality of your visualizations and storytelling; **make sure to use everything you have learned in this course.** \n",
    "\n",
    "\n",
    "Following is to show how to plot to a file to save a graph:"
   ]
  },
  {
   "cell_type": "code",
   "execution_count": 29,
   "metadata": {},
   "outputs": [
    {
     "name": "stderr",
     "output_type": "stream",
     "text": [
      "Google's Terms of Service: https://cloud.google.com/maps-platform/terms/.\n",
      "Please cite ggmap if you use it! See citation(\"ggmap\") for details.\n"
     ]
    }
   ],
   "source": [
    "# this is how you save a plot to a file\n",
    "library(ggplot2)\n",
    "library(dplyr)\n",
    "library(maps)\n",
    "library(ggmap)\n",
    "library(mapproj)\n",
    "\n",
    "# comment this out to see the plot in the notebook \n",
    "# png(filename=\"myplot.png\")\n",
    "\n",
    "# your plot here..\n",
    "# qplot(carat, price, data = diamonds)\n",
    "\n",
    "# comment this out to see the plot in the notebook\n",
    "# dev.off()"
   ]
  },
  {
   "cell_type": "markdown",
   "metadata": {},
   "source": [
    "Make sure you have all axis labels set in R notebook before you save your plot. You can adjust width and height when saving your plots.  Here is a reference to png() function:\n",
    "https://stat.ethz.ch/R-manual/R-devel/library/grDevices/html/png.html"
   ]
  },
  {
   "cell_type": "markdown",
   "metadata": {},
   "source": [
    "**Activity:**"
   ]
  },
  {
   "cell_type": "code",
   "execution_count": 2,
   "metadata": {},
   "outputs": [],
   "source": [
    "# Read your data here; \n",
    "\n",
    "df <- read.csv(\"/home/lcmhng/jupyter/vehicles_sample.csv\")\n",
    "\n",
    "# Clean it up, reformat it, filter it, sort it, group it, etc.\n",
    "\n",
    "# Create your visualizations and save them as png files, then prepare your final pdf document elsewhere\n",
    "# <- ALL YOUR CODE HERE ->"
   ]
  },
  {
   "cell_type": "code",
   "execution_count": 3,
   "metadata": {},
   "outputs": [
    {
     "data": {
      "text/html": [
       "<table>\n",
       "<caption>A data.frame: 6 × 20</caption>\n",
       "<thead>\n",
       "\t<tr><th scope=col>X</th><th scope=col>region</th><th scope=col>price</th><th scope=col>year</th><th scope=col>manufacturer</th><th scope=col>model</th><th scope=col>condition</th><th scope=col>cylinders</th><th scope=col>fuel</th><th scope=col>odometer</th><th scope=col>title_status</th><th scope=col>transmission</th><th scope=col>drive</th><th scope=col>size</th><th scope=col>type</th><th scope=col>paint_color</th><th scope=col>county</th><th scope=col>state</th><th scope=col>lat</th><th scope=col>long</th></tr>\n",
       "\t<tr><th scope=col>&lt;int&gt;</th><th scope=col>&lt;fct&gt;</th><th scope=col>&lt;dbl&gt;</th><th scope=col>&lt;int&gt;</th><th scope=col>&lt;fct&gt;</th><th scope=col>&lt;fct&gt;</th><th scope=col>&lt;fct&gt;</th><th scope=col>&lt;fct&gt;</th><th scope=col>&lt;fct&gt;</th><th scope=col>&lt;int&gt;</th><th scope=col>&lt;fct&gt;</th><th scope=col>&lt;fct&gt;</th><th scope=col>&lt;fct&gt;</th><th scope=col>&lt;fct&gt;</th><th scope=col>&lt;fct&gt;</th><th scope=col>&lt;fct&gt;</th><th scope=col>&lt;lgl&gt;</th><th scope=col>&lt;fct&gt;</th><th scope=col>&lt;dbl&gt;</th><th scope=col>&lt;dbl&gt;</th></tr>\n",
       "</thead>\n",
       "<tbody>\n",
       "\t<tr><td>1</td><td>madison            </td><td>    0</td><td>2013</td><td>hyundai  </td><td>elantra gt          </td><td>good     </td><td>4 cylinders</td><td>gas   </td><td>    NA</td><td>clean</td><td>automatic</td><td>fwd</td><td>sub-compact</td><td>sedan</td><td>white</td><td>NA</td><td>wi</td><td>42.4778</td><td>-92.3661</td></tr>\n",
       "\t<tr><td>2</td><td>chillicothe        </td><td>  200</td><td>2007</td><td>gmc      </td><td>sierra              </td><td>NA       </td><td>NA         </td><td>gas   </td><td>    NA</td><td>clean</td><td>automatic</td><td>NA </td><td>NA         </td><td>NA   </td><td>NA   </td><td>NA</td><td>oh</td><td>39.1971</td><td>-83.6101</td></tr>\n",
       "\t<tr><td>3</td><td>north jersey       </td><td>    0</td><td>2015</td><td>kia      </td><td>sportage            </td><td>NA       </td><td>NA         </td><td>gas   </td><td> 81158</td><td>clean</td><td>automatic</td><td>4wd</td><td>NA         </td><td>SUV  </td><td>red  </td><td>NA</td><td>nj</td><td>40.8546</td><td>-74.0427</td></tr>\n",
       "\t<tr><td>4</td><td>sioux falls / SE SD</td><td> 8745</td><td>2010</td><td>ford     </td><td>explorer            </td><td>excellent</td><td>NA         </td><td>gas   </td><td>143627</td><td>clean</td><td>automatic</td><td>NA </td><td>NA         </td><td>SUV  </td><td>NA   </td><td>NA</td><td>sd</td><td>43.5741</td><td>-96.7780</td></tr>\n",
       "\t<tr><td>5</td><td>maine              </td><td>41995</td><td>2016</td><td>chevrolet</td><td>silverado 2500hd ltz</td><td>NA       </td><td>NA         </td><td>diesel</td><td> 93166</td><td>clean</td><td>other    </td><td>NA </td><td>NA         </td><td>NA   </td><td>NA   </td><td>NA</td><td>me</td><td>44.0361</td><td>-69.9729</td></tr>\n",
       "\t<tr><td>6</td><td>roseburg           </td><td> 2495</td><td>  NA</td><td>NA       </td><td>NA                  </td><td>NA       </td><td>NA         </td><td>NA    </td><td>    NA</td><td>NA   </td><td>NA       </td><td>NA </td><td>NA         </td><td>NA   </td><td>NA   </td><td>NA</td><td>or</td><td>     NA</td><td>      NA</td></tr>\n",
       "</tbody>\n",
       "</table>\n"
      ],
      "text/latex": [
       "A data.frame: 6 × 20\n",
       "\\begin{tabular}{r|llllllllllllllllllll}\n",
       " X & region & price & year & manufacturer & model & condition & cylinders & fuel & odometer & title\\_status & transmission & drive & size & type & paint\\_color & county & state & lat & long\\\\\n",
       " <int> & <fct> & <dbl> & <int> & <fct> & <fct> & <fct> & <fct> & <fct> & <int> & <fct> & <fct> & <fct> & <fct> & <fct> & <fct> & <lgl> & <fct> & <dbl> & <dbl>\\\\\n",
       "\\hline\n",
       "\t 1 & madison             &     0 & 2013 & hyundai   & elantra gt           & good      & 4 cylinders & gas    &     NA & clean & automatic & fwd & sub-compact & sedan & white & NA & wi & 42.4778 & -92.3661\\\\\n",
       "\t 2 & chillicothe         &   200 & 2007 & gmc       & sierra               & NA        & NA          & gas    &     NA & clean & automatic & NA  & NA          & NA    & NA    & NA & oh & 39.1971 & -83.6101\\\\\n",
       "\t 3 & north jersey        &     0 & 2015 & kia       & sportage             & NA        & NA          & gas    &  81158 & clean & automatic & 4wd & NA          & SUV   & red   & NA & nj & 40.8546 & -74.0427\\\\\n",
       "\t 4 & sioux falls / SE SD &  8745 & 2010 & ford      & explorer             & excellent & NA          & gas    & 143627 & clean & automatic & NA  & NA          & SUV   & NA    & NA & sd & 43.5741 & -96.7780\\\\\n",
       "\t 5 & maine               & 41995 & 2016 & chevrolet & silverado 2500hd ltz & NA        & NA          & diesel &  93166 & clean & other     & NA  & NA          & NA    & NA    & NA & me & 44.0361 & -69.9729\\\\\n",
       "\t 6 & roseburg            &  2495 &   NA & NA        & NA                   & NA        & NA          & NA     &     NA & NA    & NA        & NA  & NA          & NA    & NA    & NA & or &      NA &       NA\\\\\n",
       "\\end{tabular}\n"
      ],
      "text/markdown": [
       "\n",
       "A data.frame: 6 × 20\n",
       "\n",
       "| X &lt;int&gt; | region &lt;fct&gt; | price &lt;dbl&gt; | year &lt;int&gt; | manufacturer &lt;fct&gt; | model &lt;fct&gt; | condition &lt;fct&gt; | cylinders &lt;fct&gt; | fuel &lt;fct&gt; | odometer &lt;int&gt; | title_status &lt;fct&gt; | transmission &lt;fct&gt; | drive &lt;fct&gt; | size &lt;fct&gt; | type &lt;fct&gt; | paint_color &lt;fct&gt; | county &lt;lgl&gt; | state &lt;fct&gt; | lat &lt;dbl&gt; | long &lt;dbl&gt; |\n",
       "|---|---|---|---|---|---|---|---|---|---|---|---|---|---|---|---|---|---|---|---|\n",
       "| 1 | madison             |     0 | 2013 | hyundai   | elantra gt           | good      | 4 cylinders | gas    |     NA | clean | automatic | fwd | sub-compact | sedan | white | NA | wi | 42.4778 | -92.3661 |\n",
       "| 2 | chillicothe         |   200 | 2007 | gmc       | sierra               | NA        | NA          | gas    |     NA | clean | automatic | NA  | NA          | NA    | NA    | NA | oh | 39.1971 | -83.6101 |\n",
       "| 3 | north jersey        |     0 | 2015 | kia       | sportage             | NA        | NA          | gas    |  81158 | clean | automatic | 4wd | NA          | SUV   | red   | NA | nj | 40.8546 | -74.0427 |\n",
       "| 4 | sioux falls / SE SD |  8745 | 2010 | ford      | explorer             | excellent | NA          | gas    | 143627 | clean | automatic | NA  | NA          | SUV   | NA    | NA | sd | 43.5741 | -96.7780 |\n",
       "| 5 | maine               | 41995 | 2016 | chevrolet | silverado 2500hd ltz | NA        | NA          | diesel |  93166 | clean | other     | NA  | NA          | NA    | NA    | NA | me | 44.0361 | -69.9729 |\n",
       "| 6 | roseburg            |  2495 |   NA | NA        | NA                   | NA        | NA          | NA     |     NA | NA    | NA        | NA  | NA          | NA    | NA    | NA | or |      NA |       NA |\n",
       "\n"
      ],
      "text/plain": [
       "  X region              price year manufacturer model                condition\n",
       "1 1 madison                 0 2013 hyundai      elantra gt           good     \n",
       "2 2 chillicothe           200 2007 gmc          sierra               NA       \n",
       "3 3 north jersey            0 2015 kia          sportage             NA       \n",
       "4 4 sioux falls / SE SD  8745 2010 ford         explorer             excellent\n",
       "5 5 maine               41995 2016 chevrolet    silverado 2500hd ltz NA       \n",
       "6 6 roseburg             2495   NA NA           NA                   NA       \n",
       "  cylinders   fuel   odometer title_status transmission drive size        type \n",
       "1 4 cylinders gas        NA   clean        automatic    fwd   sub-compact sedan\n",
       "2 NA          gas        NA   clean        automatic    NA    NA          NA   \n",
       "3 NA          gas     81158   clean        automatic    4wd   NA          SUV  \n",
       "4 NA          gas    143627   clean        automatic    NA    NA          SUV  \n",
       "5 NA          diesel  93166   clean        other        NA    NA          NA   \n",
       "6 NA          NA         NA   NA           NA           NA    NA          NA   \n",
       "  paint_color county state lat     long    \n",
       "1 white       NA     wi    42.4778 -92.3661\n",
       "2 NA          NA     oh    39.1971 -83.6101\n",
       "3 red         NA     nj    40.8546 -74.0427\n",
       "4 NA          NA     sd    43.5741 -96.7780\n",
       "5 NA          NA     me    44.0361 -69.9729\n",
       "6 NA          NA     or         NA       NA"
      ]
     },
     "metadata": {},
     "output_type": "display_data"
    }
   ],
   "source": [
    "## NA subset\n",
    "df_na <- mutate_all(df, na_if,\"\")\n",
    "head(df_na)"
   ]
  },
  {
   "cell_type": "code",
   "execution_count": 7,
   "metadata": {
    "scrolled": false
   },
   "outputs": [
    {
     "data": {
      "text/html": [
       "<table>\n",
       "<caption>A data.frame: 6 × 20</caption>\n",
       "<thead>\n",
       "\t<tr><th scope=col>X</th><th scope=col>region</th><th scope=col>price</th><th scope=col>year</th><th scope=col>manufacturer</th><th scope=col>model</th><th scope=col>condition</th><th scope=col>cylinders</th><th scope=col>fuel</th><th scope=col>odometer</th><th scope=col>title_status</th><th scope=col>transmission</th><th scope=col>drive</th><th scope=col>size</th><th scope=col>type</th><th scope=col>paint_color</th><th scope=col>county</th><th scope=col>state</th><th scope=col>lat</th><th scope=col>long</th></tr>\n",
       "\t<tr><th scope=col>&lt;int&gt;</th><th scope=col>&lt;fct&gt;</th><th scope=col>&lt;dbl&gt;</th><th scope=col>&lt;int&gt;</th><th scope=col>&lt;fct&gt;</th><th scope=col>&lt;fct&gt;</th><th scope=col>&lt;fct&gt;</th><th scope=col>&lt;fct&gt;</th><th scope=col>&lt;fct&gt;</th><th scope=col>&lt;int&gt;</th><th scope=col>&lt;fct&gt;</th><th scope=col>&lt;fct&gt;</th><th scope=col>&lt;fct&gt;</th><th scope=col>&lt;fct&gt;</th><th scope=col>&lt;fct&gt;</th><th scope=col>&lt;fct&gt;</th><th scope=col>&lt;lgl&gt;</th><th scope=col>&lt;fct&gt;</th><th scope=col>&lt;dbl&gt;</th><th scope=col>&lt;dbl&gt;</th></tr>\n",
       "</thead>\n",
       "<tbody>\n",
       "\t<tr><td>1</td><td>madison            </td><td>    0</td><td>2013</td><td>hyundai  </td><td>elantra gt          </td><td>good     </td><td>4 cylinders</td><td>gas   </td><td>    NA</td><td>clean</td><td>automatic</td><td>fwd</td><td>sub-compact</td><td>sedan</td><td>white</td><td>NA</td><td>wi</td><td>42.4778</td><td>-92.3661</td></tr>\n",
       "\t<tr><td>2</td><td>chillicothe        </td><td>  200</td><td>2007</td><td>gmc      </td><td>sierra              </td><td>         </td><td>           </td><td>gas   </td><td>    NA</td><td>clean</td><td>automatic</td><td>   </td><td>           </td><td>     </td><td>     </td><td>NA</td><td>oh</td><td>39.1971</td><td>-83.6101</td></tr>\n",
       "\t<tr><td>3</td><td>north jersey       </td><td>    0</td><td>2015</td><td>kia      </td><td>sportage            </td><td>         </td><td>           </td><td>gas   </td><td> 81158</td><td>clean</td><td>automatic</td><td>4wd</td><td>           </td><td>SUV  </td><td>red  </td><td>NA</td><td>nj</td><td>40.8546</td><td>-74.0427</td></tr>\n",
       "\t<tr><td>4</td><td>sioux falls / SE SD</td><td> 8745</td><td>2010</td><td>ford     </td><td>explorer            </td><td>excellent</td><td>           </td><td>gas   </td><td>143627</td><td>clean</td><td>automatic</td><td>   </td><td>           </td><td>SUV  </td><td>     </td><td>NA</td><td>sd</td><td>43.5741</td><td>-96.7780</td></tr>\n",
       "\t<tr><td>5</td><td>maine              </td><td>41995</td><td>2016</td><td>chevrolet</td><td>silverado 2500hd ltz</td><td>         </td><td>           </td><td>diesel</td><td> 93166</td><td>clean</td><td>other    </td><td>   </td><td>           </td><td>     </td><td>     </td><td>NA</td><td>me</td><td>44.0361</td><td>-69.9729</td></tr>\n",
       "\t<tr><td>6</td><td>roseburg           </td><td> 2495</td><td>  NA</td><td>         </td><td>                    </td><td>         </td><td>           </td><td>      </td><td>    NA</td><td>     </td><td>         </td><td>   </td><td>           </td><td>     </td><td>     </td><td>NA</td><td>or</td><td>     NA</td><td>      NA</td></tr>\n",
       "</tbody>\n",
       "</table>\n"
      ],
      "text/latex": [
       "A data.frame: 6 × 20\n",
       "\\begin{tabular}{r|llllllllllllllllllll}\n",
       " X & region & price & year & manufacturer & model & condition & cylinders & fuel & odometer & title\\_status & transmission & drive & size & type & paint\\_color & county & state & lat & long\\\\\n",
       " <int> & <fct> & <dbl> & <int> & <fct> & <fct> & <fct> & <fct> & <fct> & <int> & <fct> & <fct> & <fct> & <fct> & <fct> & <fct> & <lgl> & <fct> & <dbl> & <dbl>\\\\\n",
       "\\hline\n",
       "\t 1 & madison             &     0 & 2013 & hyundai   & elantra gt           & good      & 4 cylinders & gas    &     NA & clean & automatic & fwd & sub-compact & sedan & white & NA & wi & 42.4778 & -92.3661\\\\\n",
       "\t 2 & chillicothe         &   200 & 2007 & gmc       & sierra               &           &             & gas    &     NA & clean & automatic &     &             &       &       & NA & oh & 39.1971 & -83.6101\\\\\n",
       "\t 3 & north jersey        &     0 & 2015 & kia       & sportage             &           &             & gas    &  81158 & clean & automatic & 4wd &             & SUV   & red   & NA & nj & 40.8546 & -74.0427\\\\\n",
       "\t 4 & sioux falls / SE SD &  8745 & 2010 & ford      & explorer             & excellent &             & gas    & 143627 & clean & automatic &     &             & SUV   &       & NA & sd & 43.5741 & -96.7780\\\\\n",
       "\t 5 & maine               & 41995 & 2016 & chevrolet & silverado 2500hd ltz &           &             & diesel &  93166 & clean & other     &     &             &       &       & NA & me & 44.0361 & -69.9729\\\\\n",
       "\t 6 & roseburg            &  2495 &   NA &           &                      &           &             &        &     NA &       &           &     &             &       &       & NA & or &      NA &       NA\\\\\n",
       "\\end{tabular}\n"
      ],
      "text/markdown": [
       "\n",
       "A data.frame: 6 × 20\n",
       "\n",
       "| X &lt;int&gt; | region &lt;fct&gt; | price &lt;dbl&gt; | year &lt;int&gt; | manufacturer &lt;fct&gt; | model &lt;fct&gt; | condition &lt;fct&gt; | cylinders &lt;fct&gt; | fuel &lt;fct&gt; | odometer &lt;int&gt; | title_status &lt;fct&gt; | transmission &lt;fct&gt; | drive &lt;fct&gt; | size &lt;fct&gt; | type &lt;fct&gt; | paint_color &lt;fct&gt; | county &lt;lgl&gt; | state &lt;fct&gt; | lat &lt;dbl&gt; | long &lt;dbl&gt; |\n",
       "|---|---|---|---|---|---|---|---|---|---|---|---|---|---|---|---|---|---|---|---|\n",
       "| 1 | madison             |     0 | 2013 | hyundai   | elantra gt           | good      | 4 cylinders | gas    |     NA | clean | automatic | fwd | sub-compact | sedan | white | NA | wi | 42.4778 | -92.3661 |\n",
       "| 2 | chillicothe         |   200 | 2007 | gmc       | sierra               | <!----> | <!----> | gas    |     NA | clean | automatic | <!----> | <!----> | <!----> | <!----> | NA | oh | 39.1971 | -83.6101 |\n",
       "| 3 | north jersey        |     0 | 2015 | kia       | sportage             | <!----> | <!----> | gas    |  81158 | clean | automatic | 4wd | <!----> | SUV   | red   | NA | nj | 40.8546 | -74.0427 |\n",
       "| 4 | sioux falls / SE SD |  8745 | 2010 | ford      | explorer             | excellent | <!----> | gas    | 143627 | clean | automatic | <!----> | <!----> | SUV   | <!----> | NA | sd | 43.5741 | -96.7780 |\n",
       "| 5 | maine               | 41995 | 2016 | chevrolet | silverado 2500hd ltz | <!----> | <!----> | diesel |  93166 | clean | other     | <!----> | <!----> | <!----> | <!----> | NA | me | 44.0361 | -69.9729 |\n",
       "| 6 | roseburg            |  2495 |   NA | <!----> | <!----> | <!----> | <!----> | <!----> |     NA | <!----> | <!----> | <!----> | <!----> | <!----> | <!----> | NA | or |      NA |       NA |\n",
       "\n"
      ],
      "text/plain": [
       "  X region              price year manufacturer model                condition\n",
       "1 1 madison                 0 2013 hyundai      elantra gt           good     \n",
       "2 2 chillicothe           200 2007 gmc          sierra                        \n",
       "3 3 north jersey            0 2015 kia          sportage                      \n",
       "4 4 sioux falls / SE SD  8745 2010 ford         explorer             excellent\n",
       "5 5 maine               41995 2016 chevrolet    silverado 2500hd ltz          \n",
       "6 6 roseburg             2495   NA                                            \n",
       "  cylinders   fuel   odometer title_status transmission drive size        type \n",
       "1 4 cylinders gas        NA   clean        automatic    fwd   sub-compact sedan\n",
       "2             gas        NA   clean        automatic                           \n",
       "3             gas     81158   clean        automatic    4wd               SUV  \n",
       "4             gas    143627   clean        automatic                      SUV  \n",
       "5             diesel  93166   clean        other                               \n",
       "6                        NA                                                    \n",
       "  paint_color county state lat     long    \n",
       "1 white       NA     wi    42.4778 -92.3661\n",
       "2             NA     oh    39.1971 -83.6101\n",
       "3 red         NA     nj    40.8546 -74.0427\n",
       "4             NA     sd    43.5741 -96.7780\n",
       "5             NA     me    44.0361 -69.9729\n",
       "6             NA     or         NA       NA"
      ]
     },
     "metadata": {},
     "output_type": "display_data"
    },
    {
     "data": {
      "text/plain": [
       "       X                    region          price                year     \n",
       " Min.   :    1   columbus      :  362   Min.   :        0   Min.   :1900  \n",
       " 1st Qu.:10597   springfield   :  344   1st Qu.:     4500   1st Qu.:2007  \n",
       " Median :21193   jacksonville  :  335   Median :     9995   Median :2012  \n",
       " Mean   :21193   tampa bay area:  331   Mean   :    16825   Mean   :2010  \n",
       " 3rd Qu.:31789   reno / tahoe  :  326   3rd Qu.:    18995   3rd Qu.:2016  \n",
       " Max.   :42385   salem         :  318   Max.   :111111111   Max.   :2021  \n",
       "                 (Other)       :40369                       NA's   :9552  \n",
       "    manufacturer              model           condition           cylinders    \n",
       "          :11081                 : 9886            :24635              :22546  \n",
       " ford     : 6039   f-150         :  566   excellent: 8497   4 cylinders: 7015  \n",
       " chevrolet: 4654   silverado 1500:  392   fair     :  689   6 cylinders: 7004  \n",
       " toyota   : 2457   escape        :  338   good     : 6584   8 cylinders: 5462  \n",
       " honda    : 1896   1500          :  292   like new : 1805   5 cylinders:  137  \n",
       " nissan   : 1795   civic         :  271   new      :  121   other      :   84  \n",
       " (Other)  :14463   (Other)       :30640   salvage  :   54   (Other)    :  137  \n",
       "       fuel          odometer           title_status      transmission  \n",
       "         : 9708   Min.   :      0             : 9657            : 9627  \n",
       " diesel  : 2488   1st Qu.:  43699   clean     :31455   automatic:29149  \n",
       " electric:  108   Median :  92043   lien      :  203   manual   : 2409  \n",
       " gas     :28568   Mean   :  99178   missing   :   86   other    : 1200  \n",
       " hybrid  :  382   3rd Qu.: 138187   parts only:   27                    \n",
       " other   : 1131   Max.   :4728224   rebuilt   :  627                    \n",
       "                  NA's   :15365     salvage   :  330                    \n",
       " drive                size            type        paint_color     county       \n",
       "    :19231              :32017          :18211          :20265   Mode:logical  \n",
       " 4wd: 9907   compact    : 1675   sedan  : 6494   white  : 5780   NA's:42385    \n",
       " fwd: 9038   full-size  : 5347   SUV    : 6171   black  : 4293                 \n",
       " rwd: 4209   mid-size   : 3080   truck  : 2705   silver : 3272                 \n",
       "             sub-compact:  266   pickup : 2472   blue   : 2333                 \n",
       "                                 other  : 1352   red    : 2254                 \n",
       "                                 (Other): 4980   (Other): 4188                 \n",
       "     state            lat              long        \n",
       " ca     : 4574   Min.   :-80.39   Min.   :-159.38  \n",
       " fl     : 2786   1st Qu.: 35.07   1st Qu.:-106.95  \n",
       " tx     : 2298   Median : 39.38   Median : -88.01  \n",
       " or     : 1803   Mean   : 38.74   Mean   : -94.03  \n",
       " ny     : 1786   3rd Qu.: 42.52   3rd Qu.: -80.90  \n",
       " oh     : 1736   Max.   : 65.02   Max.   :  36.08  \n",
       " (Other):27402   NA's   :9986     NA's   :9986     "
      ]
     },
     "metadata": {},
     "output_type": "display_data"
    },
    {
     "name": "stdout",
     "output_type": "stream",
     "text": [
      "'data.frame':\t42385 obs. of  20 variables:\n",
      " $ X           : int  1 2 3 4 5 6 7 8 9 10 ...\n",
      " $ region      : Factor w/ 401 levels \"abilene\",\"akron / canton\",..: 201 58 238 318 202 291 56 180 189 101 ...\n",
      " $ price       : num  0 200 0 8745 41995 ...\n",
      " $ year        : int  2013 2007 2015 2010 2016 NA NA NA 2009 2017 ...\n",
      " $ manufacturer: Factor w/ 43 levels \"\",\"acura\",\"alfa-romeo\",..: 19 16 23 15 9 1 1 1 18 23 ...\n",
      " $ model       : Factor w/ 7176 levels \"\",\"-\",\"- CR-V - EX-L - 4WD - LEATHER\",..: 2292 5707 6106 2547 5901 1 1 1 1563 6038 ...\n",
      " $ condition   : Factor w/ 7 levels \"\",\"excellent\",..: 4 1 1 2 1 1 1 1 1 4 ...\n",
      " $ cylinders   : Factor w/ 9 levels \"\",\"10 cylinders\",..: 5 1 1 1 1 1 1 1 1 7 ...\n",
      " $ fuel        : Factor w/ 6 levels \"\",\"diesel\",\"electric\",..: 4 4 4 4 2 1 1 1 4 4 ...\n",
      " $ odometer    : int  NA NA 81158 143627 93166 NA NA NA NA 34973 ...\n",
      " $ title_status: Factor w/ 7 levels \"\",\"clean\",\"lien\",..: 2 2 2 2 2 1 1 1 2 2 ...\n",
      " $ transmission: Factor w/ 4 levels \"\",\"automatic\",..: 2 2 2 2 4 1 1 1 2 2 ...\n",
      " $ drive       : Factor w/ 4 levels \"\",\"4wd\",\"fwd\",..: 3 1 2 1 1 1 1 1 1 3 ...\n",
      " $ size        : Factor w/ 5 levels \"\",\"compact\",\"full-size\",..: 5 1 1 1 1 1 1 1 5 1 ...\n",
      " $ type        : Factor w/ 14 levels \"\",\"bus\",\"convertible\",..: 10 1 11 11 1 1 1 1 10 8 ...\n",
      " $ paint_color : Factor w/ 13 levels \"\",\"black\",\"blue\",..: 12 1 10 1 1 1 1 1 3 12 ...\n",
      " $ county      : logi  NA NA NA NA NA NA ...\n",
      " $ state       : Factor w/ 51 levels \"ak\",\"al\",\"ar\",..: 49 36 32 42 22 38 15 10 14 16 ...\n",
      " $ lat         : num  42.5 39.2 40.9 43.6 44 ...\n",
      " $ long        : num  -92.4 -83.6 -74 -96.8 -70 ...\n"
     ]
    }
   ],
   "source": [
    "head(df)\n",
    "summary(df)\n",
    "str(df)"
   ]
  },
  {
   "cell_type": "code",
   "execution_count": 34,
   "metadata": {},
   "outputs": [],
   "source": [
    "## png(filename=\"vehicles_by_year.png\")\n",
    "\n",
    "## Listings for year\n",
    "#ggplot(df, aes(x=year)) + \n",
    " #   geom_histogram(bins=120, fill='black') + \n",
    "  #  theme_minimal() +\n",
    "   # labs(x='Vehicle Year', y='Number of Listings')\n",
    "\n",
    "\n",
    "# comment this out to see the plot in the notebook\n",
    "## dev.off()"
   ]
  },
  {
   "cell_type": "code",
   "execution_count": 89,
   "metadata": {},
   "outputs": [
    {
     "data": {
      "text/html": [
       "<strong>png:</strong> 2"
      ],
      "text/latex": [
       "\\textbf{png:} 2"
      ],
      "text/markdown": [
       "**png:** 2"
      ],
      "text/plain": [
       "png \n",
       "  2 "
      ]
     },
     "metadata": {},
     "output_type": "display_data"
    }
   ],
   "source": [
    "png(filename=\"vehicles_condition_pie2.png\")\n",
    "\n",
    "df_condition <- subset(df_white, condition != 'NA')\n",
    "\n",
    "## vehicle condition\n",
    "ggplot(df_condition, aes(x=factor(1), y=condition, fill=condition)) + \n",
    "   geom_bar(stat=\"identity\", width=1) + \n",
    "   coord_polar(theta='y') + \n",
    "   theme_minimal()\n",
    "\n",
    "dev.off()"
   ]
  },
  {
   "cell_type": "code",
   "execution_count": 33,
   "metadata": {},
   "outputs": [],
   "source": [
    "#df_price <- subset(df, price < 50000 & price > 0)\n",
    "\n",
    "#png(filename=\"v_price.png\")\n",
    "\n",
    "#ggplot(df_price, aes(x=price)) + \n",
    " #   geom_histogram(bins=100, fill='black') + \n",
    "  #  theme_minimal() +\n",
    "   # labs(x='Vehicle Price', y='Number of Listings')\n",
    "\n",
    "#dev.off()"
   ]
  },
  {
   "cell_type": "code",
   "execution_count": 36,
   "metadata": {},
   "outputs": [
    {
     "data": {
      "text/html": [
       "<strong>png:</strong> 2"
      ],
      "text/latex": [
       "\\textbf{png:} 2"
      ],
      "text/markdown": [
       "**png:** 2"
      ],
      "text/plain": [
       "png \n",
       "  2 "
      ]
     },
     "metadata": {},
     "output_type": "display_data"
    }
   ],
   "source": [
    "## Vehicle colors\n",
    "\n",
    "df_color <- subset(df_na, paint_color != 'NA')\n",
    "\n",
    "png(filename=\"vehicle_colors.png\")\n",
    "\n",
    "ggplot(df_color, aes(x=paint_color)) + \n",
    "       geom_bar(fill=c('black', 'blue', 'brown', 'pink', 'green', \n",
    "                        'grey', 'orange', 'purple', 'red', 'grey70', 'grey90', 'yellow'),\n",
    "               colour = 'black') +\n",
    "theme_minimal() +\n",
    "    labs(x='Vehicle Color', y='Number of Listings')\n",
    "\n",
    "\n",
    "# colour=c('black', 'blue', 'brown', 'pink', 'green', \n",
    "# 'grey', 'orange', 'purple', 'red', 'grey70', 'grey90', 'yellow')\n",
    "\n",
    "dev.off()"
   ]
  },
  {
   "cell_type": "code",
   "execution_count": 42,
   "metadata": {},
   "outputs": [
    {
     "data": {
      "text/html": [
       "<strong>png:</strong> 2"
      ],
      "text/latex": [
       "\\textbf{png:} 2"
      ],
      "text/markdown": [
       "**png:** 2"
      ],
      "text/plain": [
       "png \n",
       "  2 "
      ]
     },
     "metadata": {},
     "output_type": "display_data"
    }
   ],
   "source": [
    "# White vehicle Types\n",
    "\n",
    "df_white <- subset(df_color, paint_color == 'white')\n",
    "\n",
    "png(filename=\"white_vehicle_types.png\")\n",
    "\n",
    "ggplot(df_white, aes(x=type)) +\n",
    "    geom_bar(fill='grey90', colour='black')+\n",
    "    theme_minimal() +\n",
    "    labs(x='Vehicle Type', y='Number of Listings')+\n",
    "    theme(axis.text.x = element_text(angle = 90, vjust = 0.5, hjust=1))\n",
    "\n",
    "dev.off()"
   ]
  },
  {
   "cell_type": "code",
   "execution_count": 49,
   "metadata": {},
   "outputs": [
    {
     "data": {
      "text/html": [
       "<strong>png:</strong> 2"
      ],
      "text/latex": [
       "\\textbf{png:} 2"
      ],
      "text/markdown": [
       "**png:** 2"
      ],
      "text/plain": [
       "png \n",
       "  2 "
      ]
     },
     "metadata": {},
     "output_type": "display_data"
    }
   ],
   "source": [
    "df_black <- subset(df_color, paint_color == 'black')\n",
    "\n",
    "png(filename=\"black_vehicle_types.png\")\n",
    "\n",
    "ggplot(df_black, aes(x=type)) +\n",
    "    geom_bar(fill='black', colour='black')+\n",
    "    theme_minimal() +\n",
    "    labs(x='Vehicle Type', y='Number of Listings')+\n",
    "    theme(axis.text.x = element_text(angle = 90, vjust = 0.5, hjust=1))\n",
    "\n",
    "dev.off()"
   ]
  },
  {
   "cell_type": "code",
   "execution_count": 55,
   "metadata": {},
   "outputs": [
    {
     "data": {
      "text/html": [
       "<strong>png:</strong> 2"
      ],
      "text/latex": [
       "\\textbf{png:} 2"
      ],
      "text/markdown": [
       "**png:** 2"
      ],
      "text/plain": [
       "png \n",
       "  2 "
      ]
     },
     "metadata": {},
     "output_type": "display_data"
    }
   ],
   "source": [
    "png(filename=\"all_colors_vehicle_types.png\")\n",
    "\n",
    "ggplot(df_color, aes(x=type)) +\n",
    "    geom_bar(fill='black', colour='black')+\n",
    "    theme_minimal() +\n",
    "    facet_wrap(~paint_color) +\n",
    "    labs(x='Vehicle Type', y='Number of Listings')+\n",
    "    theme(axis.text.x = element_text(angle = 90, vjust = 0.5, hjust=1))\n",
    "\n",
    "dev.off()"
   ]
  },
  {
   "cell_type": "code",
   "execution_count": 75,
   "metadata": {},
   "outputs": [
    {
     "name": "stdout",
     "output_type": "stream",
     "text": [
      "'data.frame':\t241 obs. of  3 variables:\n",
      " $ year       : int  2001 2002 2003 2004 2005 2006 2007 2008 2009 2010 ...\n",
      " $ paint_color: Factor w/ 13 levels \"\",\"black\",\"blue\",..: 2 2 2 2 2 2 2 2 2 2 ...\n",
      " $ x          : num  6863 6920 8070 8221 6384 ...\n"
     ]
    },
    {
     "data": {
      "text/html": [
       "<table>\n",
       "<caption>A data.frame: 6 × 3</caption>\n",
       "<thead>\n",
       "\t<tr><th scope=col>year</th><th scope=col>paint_color</th><th scope=col>x</th></tr>\n",
       "\t<tr><th scope=col>&lt;int&gt;</th><th scope=col>&lt;fct&gt;</th><th scope=col>&lt;dbl&gt;</th></tr>\n",
       "</thead>\n",
       "<tbody>\n",
       "\t<tr><td>2001</td><td>black</td><td>6862.913</td></tr>\n",
       "\t<tr><td>2002</td><td>black</td><td>6919.521</td></tr>\n",
       "\t<tr><td>2003</td><td>black</td><td>8070.371</td></tr>\n",
       "\t<tr><td>2004</td><td>black</td><td>8221.392</td></tr>\n",
       "\t<tr><td>2005</td><td>black</td><td>6384.453</td></tr>\n",
       "\t<tr><td>2006</td><td>black</td><td>6776.992</td></tr>\n",
       "</tbody>\n",
       "</table>\n"
      ],
      "text/latex": [
       "A data.frame: 6 × 3\n",
       "\\begin{tabular}{r|lll}\n",
       " year & paint\\_color & x\\\\\n",
       " <int> & <fct> & <dbl>\\\\\n",
       "\\hline\n",
       "\t 2001 & black & 6862.913\\\\\n",
       "\t 2002 & black & 6919.521\\\\\n",
       "\t 2003 & black & 8070.371\\\\\n",
       "\t 2004 & black & 8221.392\\\\\n",
       "\t 2005 & black & 6384.453\\\\\n",
       "\t 2006 & black & 6776.992\\\\\n",
       "\\end{tabular}\n"
      ],
      "text/markdown": [
       "\n",
       "A data.frame: 6 × 3\n",
       "\n",
       "| year &lt;int&gt; | paint_color &lt;fct&gt; | x &lt;dbl&gt; |\n",
       "|---|---|---|\n",
       "| 2001 | black | 6862.913 |\n",
       "| 2002 | black | 6919.521 |\n",
       "| 2003 | black | 8070.371 |\n",
       "| 2004 | black | 8221.392 |\n",
       "| 2005 | black | 6384.453 |\n",
       "| 2006 | black | 6776.992 |\n",
       "\n"
      ],
      "text/plain": [
       "  year paint_color x       \n",
       "1 2001 black       6862.913\n",
       "2 2002 black       6919.521\n",
       "3 2003 black       8070.371\n",
       "4 2004 black       8221.392\n",
       "5 2005 black       6384.453\n",
       "6 2006 black       6776.992"
      ]
     },
     "metadata": {},
     "output_type": "display_data"
    }
   ],
   "source": [
    "str(df_color_price)\n",
    "head(df_color_price)"
   ]
  },
  {
   "cell_type": "code",
   "execution_count": 87,
   "metadata": {},
   "outputs": [
    {
     "data": {
      "text/html": [
       "<strong>png:</strong> 2"
      ],
      "text/latex": [
       "\\textbf{png:} 2"
      ],
      "text/markdown": [
       "**png:** 2"
      ],
      "text/plain": [
       "png \n",
       "  2 "
      ]
     },
     "metadata": {},
     "output_type": "display_data"
    }
   ],
   "source": [
    "## Average price for colors\n",
    "\n",
    "png(filename=\"white_price_year.png\")\n",
    "\n",
    "df_color_price <- subset(df_white, select=c(price, year, paint_color), year > 2000)\n",
    "df_color_price <- aggregate(df_color_price$price, by=list(year=df_color_price$year, paint_color=df_color_price$paint_color),\n",
    "                            FUN=mean)\n",
    "\n",
    "ggplot(df_color_price, aes(x=year, y=x, group=paint_color), ) +\n",
    "    geom_point() +\n",
    "    geom_line() +\n",
    "    theme_minimal() +\n",
    "    labs(x='Manufactur Year', y='Average Price')\n",
    "\n",
    "dev.off()"
   ]
  },
  {
   "cell_type": "code",
   "execution_count": 88,
   "metadata": {},
   "outputs": [
    {
     "data": {
      "text/html": [
       "<strong>png:</strong> 2"
      ],
      "text/latex": [
       "\\textbf{png:} 2"
      ],
      "text/markdown": [
       "**png:** 2"
      ],
      "text/plain": [
       "png \n",
       "  2 "
      ]
     },
     "metadata": {},
     "output_type": "display_data"
    }
   ],
   "source": [
    "png(filename=\"black_price_year.png\")\n",
    "\n",
    "df_color_price <- subset(df_black, select=c(price, year, paint_color), year > 2000)\n",
    "df_color_price <- aggregate(df_color_price$price, by=list(year=df_color_price$year, paint_color=df_color_price$paint_color),\n",
    "                            FUN=mean)\n",
    "\n",
    "ggplot(df_color_price, aes(x=year, y=x, group=paint_color), ) +\n",
    "    geom_point() +\n",
    "    geom_line() +\n",
    "    theme_minimal() +\n",
    "    labs(x='Manufactur Year', y='Average Price')\n",
    "\n",
    "dev.off()"
   ]
  },
  {
   "cell_type": "code",
   "execution_count": 32,
   "metadata": {},
   "outputs": [],
   "source": [
    "# png(filename=\"myplot.png\")\n",
    "\n",
    "#df_type <- subset(df_na, condition != 'NA' & price < 50000 & price > 0 & paint_color != 'NA')\n",
    "\n",
    "#ggplot(df_type, aes(x=price)) + \n",
    " #   geom_histogram(bins=100, fill='black') + \n",
    "  #  facet_wrap(~type) + \n",
    "   # theme_minimal() +\n",
    "    #labs(x='Vehicle Price', y='Number of Listings')\n",
    "\n",
    "# dev.off()"
   ]
  },
  {
   "cell_type": "code",
   "execution_count": 31,
   "metadata": {},
   "outputs": [],
   "source": [
    "# png(filename=\"myplot.png\")\n",
    "\n",
    "#ggplot(df_type, aes(x=type)) + \n",
    " #      geom_bar(fill= ,\n",
    "  #              colour = 'black') +\n",
    "   #     facet_wrap(~paint_color) +\n",
    "    #    theme_minimal() +\n",
    "     #   labs(x='Vehicle Color', y='Number of Listings')\n",
    "\n",
    "# dev.off()"
   ]
  },
  {
   "cell_type": "code",
   "execution_count": 96,
   "metadata": {},
   "outputs": [
    {
     "data": {
      "text/html": [
       "<strong>png:</strong> 2"
      ],
      "text/latex": [
       "\\textbf{png:} 2"
      ],
      "text/markdown": [
       "**png:** 2"
      ],
      "text/plain": [
       "png \n",
       "  2 "
      ]
     },
     "metadata": {},
     "output_type": "display_data"
    }
   ],
   "source": [
    "df_white_notfree <- subset(df_white, price > 0)\n",
    "\n",
    "png(filename=\"white_pricing_distribution.png\")\n",
    "\n",
    "ggplot(df_white_notfree, aes(x=price)) + \n",
    "    geom_histogram(aes(y=..density..), bins=1000) + \n",
    "    geom_density(alpha=.2, fill='red') +\n",
    "    theme_minimal()\n",
    "\n",
    "dev.off()"
   ]
  },
  {
   "cell_type": "markdown",
   "metadata": {},
   "source": [
    "---\n",
    "\n",
    "# Common Pitfalls / Inefficiencies\n",
    "\n",
    "**Pay attention to the following in your visualizations and stories:**\n",
    "\n",
    "\n",
    "### Color coordinate among plots so that the same data attributes have the same color in all plots\n",
    "\n",
    "you can do that by creating a manual palette and use it everywhere to make sure same color is always assigned to the same attribute value. \n",
    "\n",
    "\n",
    "### Perceptual grouping is important! group and/or order values\n",
    "\n",
    "In a bar chart, **order the axes** by time, value, etc. to make comparisons more intuitive. \n",
    "\n",
    "Pie chart: order wedges. \n",
    "\n",
    "In a bubble map, if you want to show trends, use grouping variable to **connect** bubbles, etc. \n",
    "\n",
    "\n",
    "### No lengthy text in x axis\n",
    "\n",
    "Flip the axes of a bar chart so that string values (text) are readable on the y axis left to right, \n",
    "\n",
    "**or** \n",
    "\n",
    "at least put them slanted in x axis for better readibility. \n",
    "\n",
    "\n",
    "### Plot only those that tell an obvious story\n",
    "\n",
    "**No crowded** scatter plots with useless linear regression lines that don't tell anything. Look at alternative plots to tell your story.\n",
    "\n",
    "\n",
    "### If you have too many classes (discrete variables/categories), try to group them \n",
    "\n",
    "Instead of giving a color to each of them, you can put them in meaningful groups and color code.\n",
    "\n",
    "For sequential variables, you can do the same thing by binning. \n",
    "\n",
    "Stepped color palettes may be more useful than smooth sequential palettes (especially for comparison in choropleth maps).\n",
    "\n",
    "You can group/cluster data into meaningful chunks and display those as bubble charts, networks, geographical regions, etc. \n",
    "\n",
    "Do NOT dump all the data in the plot unless there is a CLEAR pattern/clustering to it that can be perceived immediately. \n",
    "\n",
    "\n",
    "### ANNOTATE!\n",
    "\n",
    "**Tell** your audience what they are supposed to see. \n",
    "\n",
    "Use meaningful titles with a message, not dry titles. \n",
    "\n",
    "Use nice and concise axis labels. \n",
    "\n",
    "Use text annotations (look at the **examples in the lab notebook**).\n",
    "\n",
    "\n",
    "\n",
    "### THEMING!\n",
    "\n",
    "**Good looking** charts are more **convincing**. \n",
    "\n",
    "**Almost NEVER use the default color palette, default theme, default font.**\n",
    "\n",
    "\n",
    "Use a subtle color scheme, nice fonts, interesting glyphs, etc. to make your charts look more **sophisticated**. \n",
    "\n",
    "\n",
    "\n",
    "### Use space wisely!\n",
    "\n",
    "**Balance the plots** to use space effectively.\n",
    "\n",
    "Pay attention to data-ink ratio.\n",
    "\n",
    "HAVE A FLOW left to right, top to bottom. \n",
    "\n",
    "\n"
   ]
  },
  {
   "cell_type": "code",
   "execution_count": null,
   "metadata": {},
   "outputs": [],
   "source": []
  }
 ],
 "metadata": {
  "kernelspec": {
   "display_name": "R",
   "language": "R",
   "name": "ir"
  },
  "language_info": {
   "codemirror_mode": "r",
   "file_extension": ".r",
   "mimetype": "text/x-r-source",
   "name": "R",
   "pygments_lexer": "r",
   "version": "3.5.1"
  }
 },
 "nbformat": 4,
 "nbformat_minor": 2
}
